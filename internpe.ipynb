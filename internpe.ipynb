{
  "nbformat": 4,
  "nbformat_minor": 0,
  "metadata": {
    "colab": {
      "provenance": []
    },
    "kernelspec": {
      "name": "python3",
      "display_name": "Python 3"
    },
    "language_info": {
      "name": "python"
    }
  },
  "cells": [
    {
      "cell_type": "markdown",
      "source": [],
      "metadata": {
        "id": "p7nbrHbEVHAK"
      }
    },
    {
      "cell_type": "code",
      "execution_count": 1,
      "metadata": {
        "colab": {
          "base_uri": "https://localhost:8080/",
          "height": 0
        },
        "id": "sGMeaVZIRKPK",
        "outputId": "ce494549-1658-4000-9fcb-213291f85a94"
      },
      "outputs": [
        {
          "output_type": "stream",
          "name": "stdout",
          "text": [
            "Collecting googletrans==4.0.0-rc1\n",
            "  Downloading googletrans-4.0.0rc1.tar.gz (20 kB)\n",
            "  Preparing metadata (setup.py) ... \u001b[?25l\u001b[?25hdone\n",
            "Collecting gtts\n",
            "  Downloading gTTS-2.5.3-py3-none-any.whl.metadata (4.1 kB)\n",
            "Collecting httpx==0.13.3 (from googletrans==4.0.0-rc1)\n",
            "  Downloading httpx-0.13.3-py3-none-any.whl.metadata (25 kB)\n",
            "Requirement already satisfied: certifi in /usr/local/lib/python3.10/dist-packages (from httpx==0.13.3->googletrans==4.0.0-rc1) (2024.8.30)\n",
            "Collecting hstspreload (from httpx==0.13.3->googletrans==4.0.0-rc1)\n",
            "  Downloading hstspreload-2024.9.1-py3-none-any.whl.metadata (2.1 kB)\n",
            "Requirement already satisfied: sniffio in /usr/local/lib/python3.10/dist-packages (from httpx==0.13.3->googletrans==4.0.0-rc1) (1.3.1)\n",
            "Collecting chardet==3.* (from httpx==0.13.3->googletrans==4.0.0-rc1)\n",
            "  Downloading chardet-3.0.4-py2.py3-none-any.whl.metadata (3.2 kB)\n",
            "Collecting idna==2.* (from httpx==0.13.3->googletrans==4.0.0-rc1)\n",
            "  Downloading idna-2.10-py2.py3-none-any.whl.metadata (9.1 kB)\n",
            "Collecting rfc3986<2,>=1.3 (from httpx==0.13.3->googletrans==4.0.0-rc1)\n",
            "  Downloading rfc3986-1.5.0-py2.py3-none-any.whl.metadata (6.5 kB)\n",
            "Collecting httpcore==0.9.* (from httpx==0.13.3->googletrans==4.0.0-rc1)\n",
            "  Downloading httpcore-0.9.1-py3-none-any.whl.metadata (4.6 kB)\n",
            "Collecting h11<0.10,>=0.8 (from httpcore==0.9.*->httpx==0.13.3->googletrans==4.0.0-rc1)\n",
            "  Downloading h11-0.9.0-py2.py3-none-any.whl.metadata (8.1 kB)\n",
            "Collecting h2==3.* (from httpcore==0.9.*->httpx==0.13.3->googletrans==4.0.0-rc1)\n",
            "  Downloading h2-3.2.0-py2.py3-none-any.whl.metadata (32 kB)\n",
            "Collecting hyperframe<6,>=5.2.0 (from h2==3.*->httpcore==0.9.*->httpx==0.13.3->googletrans==4.0.0-rc1)\n",
            "  Downloading hyperframe-5.2.0-py2.py3-none-any.whl.metadata (7.2 kB)\n",
            "Collecting hpack<4,>=3.0 (from h2==3.*->httpcore==0.9.*->httpx==0.13.3->googletrans==4.0.0-rc1)\n",
            "  Downloading hpack-3.0.0-py2.py3-none-any.whl.metadata (7.0 kB)\n",
            "Requirement already satisfied: requests<3,>=2.27 in /usr/local/lib/python3.10/dist-packages (from gtts) (2.32.3)\n",
            "Requirement already satisfied: click<8.2,>=7.1 in /usr/local/lib/python3.10/dist-packages (from gtts) (8.1.7)\n",
            "Requirement already satisfied: charset-normalizer<4,>=2 in /usr/local/lib/python3.10/dist-packages (from requests<3,>=2.27->gtts) (3.3.2)\n",
            "Requirement already satisfied: urllib3<3,>=1.21.1 in /usr/local/lib/python3.10/dist-packages (from requests<3,>=2.27->gtts) (2.0.7)\n",
            "Downloading httpx-0.13.3-py3-none-any.whl (55 kB)\n",
            "\u001b[2K   \u001b[90m━━━━━━━━━━━━━━━━━━━━━━━━━━━━━━━━━━━━━━━━\u001b[0m \u001b[32m55.1/55.1 kB\u001b[0m \u001b[31m4.2 MB/s\u001b[0m eta \u001b[36m0:00:00\u001b[0m\n",
            "\u001b[?25hDownloading chardet-3.0.4-py2.py3-none-any.whl (133 kB)\n",
            "\u001b[2K   \u001b[90m━━━━━━━━━━━━━━━━━━━━━━━━━━━━━━━━━━━━━━━━\u001b[0m \u001b[32m133.4/133.4 kB\u001b[0m \u001b[31m5.6 MB/s\u001b[0m eta \u001b[36m0:00:00\u001b[0m\n",
            "\u001b[?25hDownloading httpcore-0.9.1-py3-none-any.whl (42 kB)\n",
            "\u001b[2K   \u001b[90m━━━━━━━━━━━━━━━━━━━━━━━━━━━━━━━━━━━━━━━━\u001b[0m \u001b[32m42.6/42.6 kB\u001b[0m \u001b[31m3.6 MB/s\u001b[0m eta \u001b[36m0:00:00\u001b[0m\n",
            "\u001b[?25hDownloading idna-2.10-py2.py3-none-any.whl (58 kB)\n",
            "\u001b[2K   \u001b[90m━━━━━━━━━━━━━━━━━━━━━━━━━━━━━━━━━━━━━━━━\u001b[0m \u001b[32m58.8/58.8 kB\u001b[0m \u001b[31m3.5 MB/s\u001b[0m eta \u001b[36m0:00:00\u001b[0m\n",
            "\u001b[?25hDownloading h2-3.2.0-py2.py3-none-any.whl (65 kB)\n",
            "\u001b[2K   \u001b[90m━━━━━━━━━━━━━━━━━━━━━━━━━━━━━━━━━━━━━━━━\u001b[0m \u001b[32m65.0/65.0 kB\u001b[0m \u001b[31m5.5 MB/s\u001b[0m eta \u001b[36m0:00:00\u001b[0m\n",
            "\u001b[?25hDownloading gTTS-2.5.3-py3-none-any.whl (29 kB)\n",
            "Downloading rfc3986-1.5.0-py2.py3-none-any.whl (31 kB)\n",
            "Downloading hstspreload-2024.9.1-py3-none-any.whl (1.2 MB)\n",
            "\u001b[2K   \u001b[90m━━━━━━━━━━━━━━━━━━━━━━━━━━━━━━━━━━━━━━━━\u001b[0m \u001b[32m1.2/1.2 MB\u001b[0m \u001b[31m22.5 MB/s\u001b[0m eta \u001b[36m0:00:00\u001b[0m\n",
            "\u001b[?25hDownloading h11-0.9.0-py2.py3-none-any.whl (53 kB)\n",
            "\u001b[2K   \u001b[90m━━━━━━━━━━━━━━━━━━━━━━━━━━━━━━━━━━━━━━━━\u001b[0m \u001b[32m53.6/53.6 kB\u001b[0m \u001b[31m3.6 MB/s\u001b[0m eta \u001b[36m0:00:00\u001b[0m\n",
            "\u001b[?25hDownloading hpack-3.0.0-py2.py3-none-any.whl (38 kB)\n",
            "Downloading hyperframe-5.2.0-py2.py3-none-any.whl (12 kB)\n",
            "Building wheels for collected packages: googletrans\n",
            "  Building wheel for googletrans (setup.py) ... \u001b[?25l\u001b[?25hdone\n",
            "  Created wheel for googletrans: filename=googletrans-4.0.0rc1-py3-none-any.whl size=17397 sha256=e674d185cfc05905ab274727c14089060e174a83691df66db95ead02e8bbf8d3\n",
            "  Stored in directory: /root/.cache/pip/wheels/c0/59/9f/7372f0cf70160fe61b528532e1a7c8498c4becd6bcffb022de\n",
            "Successfully built googletrans\n",
            "Installing collected packages: rfc3986, hyperframe, hpack, h11, chardet, idna, hstspreload, h2, httpcore, httpx, gtts, googletrans\n",
            "  Attempting uninstall: chardet\n",
            "    Found existing installation: chardet 5.2.0\n",
            "    Uninstalling chardet-5.2.0:\n",
            "      Successfully uninstalled chardet-5.2.0\n",
            "  Attempting uninstall: idna\n",
            "    Found existing installation: idna 3.8\n",
            "    Uninstalling idna-3.8:\n",
            "      Successfully uninstalled idna-3.8\n",
            "Successfully installed chardet-3.0.4 googletrans-4.0.0rc1 gtts-2.5.3 h11-0.9.0 h2-3.2.0 hpack-3.0.0 hstspreload-2024.9.1 httpcore-0.9.1 httpx-0.13.3 hyperframe-5.2.0 idna-2.10 rfc3986-1.5.0\n"
          ]
        }
      ],
      "source": [
        "!pip install googletrans==4.0.0-rc1 gtts\n"
      ]
    },
    {
      "cell_type": "code",
      "source": [
        "# Importing necessary libraries\n",
        "from googletrans import Translator, LANGUAGES\n",
        "from gtts import gTTS\n",
        "import os\n",
        "from IPython.display import Audio\n",
        "\n",
        "# Initialize the Translator object\n",
        "translator = Translator()\n",
        "\n",
        "# Function to list supported languages\n",
        "def list_languages():\n",
        "    print(\"Supported Languages:\")\n",
        "    for lang_code, lang_name in LANGUAGES.items():\n",
        "        print(f\"{lang_code}: {lang_name}\")\n",
        "\n",
        "# Function to translate text\n",
        "def translate_text(input_text, src_lang, dest_lang):\n",
        "    try:\n",
        "        # Translate the text using googletrans\n",
        "        translated = translator.translate(input_text, src=src_lang, dest=dest_lang)\n",
        "        return translated.text\n",
        "    except Exception as e:\n",
        "        return f\"Error during translation: {str(e)}\"\n",
        "\n",
        "# Function to convert text to speech using gTTS\n",
        "def text_to_speech(text, lang):\n",
        "    try:\n",
        "        tts = gTTS(text=text, lang=lang)\n",
        "        tts.save(\"translated_audio.mp3\")\n",
        "        return \"translated_audio.mp3\"\n",
        "    except Exception as e:\n",
        "        return f\"Error during text-to-speech conversion: {str(e)}\"\n",
        "\n",
        "# Function to play the generated speech audio in Google Colab\n",
        "def play_audio(file_path):\n",
        "    try:\n",
        "        display(Audio(file_path, autoplay=True))\n",
        "    except Exception as e:\n",
        "        print(f\"Error during audio playback: {str(e)}\")\n",
        "\n",
        "# Function to get user inputs and perform translation\n",
        "def run_translation_tool():\n",
        "    print(\"Welcome to the Multi-Language Translation Tool!\")\n",
        "    print(\"Type 'list' to see supported languages.\")\n",
        "    print(\"Type 'exit' to stop the program.\\n\")\n",
        "\n",
        "    while True:\n",
        "        # Get source language from user\n",
        "        src_lang = input(\"Enter the source language (ISO code) or 'list' to see supported languages: \").strip().lower()\n",
        "        if src_lang == \"exit\":\n",
        "            print(\"Exiting the tool.\")\n",
        "            break\n",
        "        if src_lang == \"list\":\n",
        "            list_languages()\n",
        "            continue\n",
        "        if src_lang not in LANGUAGES:\n",
        "            print(f\"Unsupported source language: {src_lang}\")\n",
        "            continue\n",
        "\n",
        "        # Get target language from user\n",
        "        dest_lang = input(\"Enter the target language (ISO code) or 'list' to see supported languages: \").strip().lower()\n",
        "        if dest_lang == \"exit\":\n",
        "            print(\"Exiting the tool.\")\n",
        "            break\n",
        "        if dest_lang == \"list\":\n",
        "            list_languages()\n",
        "            continue\n",
        "        if dest_lang not in LANGUAGES:\n",
        "            print(f\"Unsupported target language: {dest_lang}\")\n",
        "            continue\n",
        "\n",
        "        # Get the text to translate\n",
        "        input_text = input(\"Enter the text you want to translate (or 'exit' to quit): \").strip()\n",
        "        if input_text.lower() == \"exit\":\n",
        "            print(\"Exiting the tool.\")\n",
        "            break\n",
        "\n",
        "        # Perform the translation\n",
        "        translated_text = translate_text(input_text, src_lang, dest_lang)\n",
        "        print(f\"\\nTranslated Text ({LANGUAGES[src_lang]} -> {LANGUAGES[dest_lang]}): {translated_text}\\n\")\n",
        "\n",
        "        # Ask if the user wants text-to-speech output\n",
        "        use_tts = input(f\"Do you want to convert the translated text into speech in {LANGUAGES[dest_lang]}? (yes/no): \").strip().lower()\n",
        "        if use_tts == \"yes\":\n",
        "            audio_file = text_to_speech(translated_text, dest_lang)\n",
        "            if isinstance(audio_file, str) and audio_file.endswith(\".mp3\"):\n",
        "                print(f\"Playing the audio for the translated text in {LANGUAGES[dest_lang]}...\")\n",
        "                play_audio(audio_file)\n",
        "            else:\n",
        "                print(f\"Error: {audio_file}\")\n",
        "\n",
        "# Run the translation tool\n",
        "run_translation_tool()\n"
      ],
      "metadata": {
        "colab": {
          "base_uri": "https://localhost:8080/",
          "height": 284
        },
        "id": "03YPWAGJUHS6",
        "outputId": "c7ec155e-0882-4d38-db7d-828a83670c87"
      },
      "execution_count": null,
      "outputs": [
        {
          "output_type": "stream",
          "name": "stdout",
          "text": [
            "Welcome to the Multi-Language Translation Tool!\n",
            "Type 'list' to see supported languages.\n",
            "Type 'exit' to stop the program.\n",
            "\n",
            "Enter the source language (ISO code) or 'list' to see supported languages: en\n",
            "Enter the target language (ISO code) or 'list' to see supported languages: hi\n",
            "Enter the text you want to translate (or 'exit' to quit): i love you\n",
            "\n",
            "Translated Text (english -> hindi): मुझे तुमसे प्यार है\n",
            "\n",
            "Do you want to convert the translated text into speech in hindi? (yes/no): yes\n",
            "Playing the audio for the translated text in hindi...\n"
          ]
        },
        {
          "output_type": "display_data",
          "data": {
            "text/plain": [
              "<IPython.lib.display.Audio object>"
            ],
            "text/html": [
              "\n",
              "                <audio  controls=\"controls\" autoplay=\"autoplay\">\n",
              "                    <source src=\"data:audio/mpeg;base64,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\" type=\"audio/mpeg\" />\n",
              "                    Your browser does not support the audio element.\n",
              "                </audio>\n",
              "              "
            ]
          },
          "metadata": {}
        }
      ]
    }
  ]
}